{
 "cells": [
  {
   "cell_type": "code",
   "execution_count": 1,
   "id": "95d69aa9-a8c1-4e46-8bb5-61b64f438e9a",
   "metadata": {
    "tags": []
   },
   "outputs": [],
   "source": [
    "import pandas as pd\n",
    "from sklearn.preprocessing import LabelEncoder\n",
    "import sklearn.metrics\n",
    "from sklearn.metrics import confusion_matrix\n",
    "from sklearn.metrics import accuracy_score, precision_score, recall_score, f1_score\n",
    "from sklearn.linear_model import LogisticRegression\n",
    "from sklearn.ensemble import RandomForestClassifier, ExtraTreesClassifier\n",
    "from sklearn.model_selection import cross_val_score, KFold, train_test_split\n",
    "from imblearn.over_sampling import SMOTE\n",
    "from imblearn.under_sampling import RandomUnderSampler\n",
    "from sklearn.preprocessing import StandardScaler\n",
    "from sklearn.pipeline import Pipeline\n",
    "import matplotlib.pyplot as plt\n",
    "import seaborn as sns"
   ]
  },
  {
   "cell_type": "code",
   "execution_count": 2,
   "id": "d2cf8a89",
   "metadata": {},
   "outputs": [
    {
     "name": "stdout",
     "output_type": "stream",
     "text": [
      "<class 'pandas.core.frame.DataFrame'>\n",
      "RangeIndex: 793 entries, 0 to 792\n",
      "Data columns (total 16 columns):\n",
      " #   Column                   Non-Null Count  Dtype  \n",
      "---  ------                   --------------  -----  \n",
      " 0   Ano Desistência          793 non-null    int64  \n",
      " 1   Cidade                   793 non-null    object \n",
      " 2   Coeficiente              793 non-null    float64\n",
      " 3   Curso                    793 non-null    object \n",
      " 4   Escola Pública?          793 non-null    object \n",
      " 5   Estado                   793 non-null    object \n",
      " 6   Forma de Ingresso        793 non-null    object \n",
      " 7   Grupo (Étnico)           793 non-null    object \n",
      " 8   Idade                    793 non-null    int64  \n",
      " 9   Nota Enem                793 non-null    float64\n",
      " 10  Per. Ingresso            793 non-null    int64  \n",
      " 11  Período Desistências     793 non-null    int64  \n",
      " 12  Período do Aluno         793 non-null    int64  \n",
      " 13  Sexo                     793 non-null    object \n",
      " 14  Situação Atual do Aluno  793 non-null    object \n",
      " 15  Tipo de Cota             793 non-null    object \n",
      "dtypes: float64(2), int64(5), object(9)\n",
      "memory usage: 99.3+ KB\n"
     ]
    }
   ],
   "source": [
    "#Os dados foram previamente tratados no Power BI\n",
    "#No Power BI existe um histórico de todas as alterações que foram realizadas\n",
    "\n",
    "df = pd.read_csv('dados_tratados2.csv')\n",
    "df = df.drop(columns=['id'])\n",
    "\n",
    "df.info()"
   ]
  },
  {
   "cell_type": "code",
   "execution_count": 3,
   "id": "c4d5de1e-b64c-4faa-b173-0e75f8e1c6d8",
   "metadata": {
    "tags": []
   },
   "outputs": [],
   "source": [
    "#aplicando label enconding em linhas binárias\n",
    "label_cols = ['Sexo', 'Escola Pública?', 'Curso', 'Situação Atual do Aluno']\n",
    "label_encoders = {}\n",
    "\n",
    "for col in label_cols: \n",
    "    le = LabelEncoder()\n",
    "    df[col] = le.fit_transform(df[col])\n",
    "    label_encoders[col] = le #guardar o encoder caso seja necessário"
   ]
  },
  {
   "cell_type": "code",
   "execution_count": 4,
   "id": "3cf26ebf",
   "metadata": {},
   "outputs": [],
   "source": [
    "#aplicando o One-hot Encondings em colunas com dados categóricos sem ordem fixa\n",
    "one_hot_cols = ['Cidade', 'Estado', 'Forma de Ingresso', 'Grupo (Étnico)', 'Tipo de Cota']\n",
    "df = pd.get_dummies(df, columns = one_hot_cols, drop_first = True) #O drop_first evita multicolinearidade "
   ]
  },
  {
   "cell_type": "code",
   "execution_count": 5,
   "id": "cacbeff7-da2b-4f62-a695-94ee15847925",
   "metadata": {},
   "outputs": [
    {
     "name": "stdout",
     "output_type": "stream",
     "text": [
      "<class 'pandas.core.frame.DataFrame'>\n",
      "RangeIndex: 793 entries, 0 to 792\n",
      "Columns: 177 entries, Ano Desistência to Tipo de Cota_Cotista\n",
      "dtypes: bool(166), float64(2), int32(4), int64(5)\n",
      "memory usage: 184.4 KB\n"
     ]
    }
   ],
   "source": [
    "df.info()"
   ]
  },
  {
   "cell_type": "code",
   "execution_count": 6,
   "id": "ac18b820",
   "metadata": {},
   "outputs": [
    {
     "data": {
      "image/png": "[encoded data removed]",
      "text/plain": [
       "<Figure size 800x1500 with 1 Axes>"
      ]
     },
     "metadata": {},
     "output_type": "display_data"
    }
   ],
   "source": [
    "# Gerando o boxplot para a coluna Nota Enem\n",
    "fig, ax = plt.subplots(figsize=(8,15))\n",
    "\n",
    "ax.boxplot(df['Nota Enem'])\n",
    "\n",
    "plt.show()"
   ]
  },
  {
   "cell_type": "code",
   "execution_count": 7,
   "id": "ee87205b-d9ca-4762-a902-31d87e2d0d1c",
   "metadata": {},
   "outputs": [
    {
     "name": "stdout",
     "output_type": "stream",
     "text": [
      "[0 1]\n",
      "[0 1]\n"
     ]
    }
   ],
   "source": [
    "print(df['Curso'].unique())\n",
    "print(df['Situação Atual do Aluno'].unique())"
   ]
  },
  {
   "cell_type": "code",
   "execution_count": 8,
   "id": "d7103e23-d786-4763-ac84-b6435d8e3472",
   "metadata": {},
   "outputs": [
    {
     "name": "stdout",
     "output_type": "stream",
     "text": [
      "<class 'pandas.core.frame.DataFrame'>\n",
      "Index: 334 entries, 563 to 788\n",
      "Columns: 176 entries, Ano Desistência to Tipo de Cota_Cotista\n",
      "dtypes: bool(166), float64(2), int32(3), int64(5)\n",
      "memory usage: 78.9 KB\n",
      "None\n",
      "<class 'pandas.core.series.Series'>\n",
      "Index: 334 entries, 563 to 788\n",
      "Series name: Situação Atual do Aluno\n",
      "Non-Null Count  Dtype\n",
      "--------------  -----\n",
      "334 non-null    int32\n",
      "dtypes: int32(1)\n",
      "memory usage: 3.9 KB\n",
      "None\n",
      "Situação Atual do Aluno\n",
      "0    167\n",
      "1    167\n",
      "Name: count, dtype: int64\n"
     ]
    }
   ],
   "source": [
    "#Separando bases em base de teste e base de treino.\n",
    "\n",
    "X = df.drop(columns=['Situação Atual do Aluno'])\n",
    "y = df['Situação Atual do Aluno']\n",
    "\n",
    "# Aplicar SMOTE para balancear as classes aumentando a classe minoritária\n",
    "#smote = SMOTE(sampling_strategy=\"auto\", random_state=42)\n",
    "#X, y = smote.fit_resample(X, y)\n",
    "\n",
    "#Aqui apaga-se dados da classe majoritária de forma aleatória até alcançar o balancemento.\n",
    "rus = RandomUnderSampler(sampling_strategy=\"auto\", random_state=42)\n",
    "X, y = rus.fit_resample(X, y)\n",
    "\n",
    "print(X.info())\n",
    "print(y.info())\n",
    "print(y.value_counts())"
   ]
  },
  {
   "cell_type": "code",
   "execution_count": 9,
   "id": "f62290b4",
   "metadata": {},
   "outputs": [],
   "source": [
    "#Separação das bases  para método de avaliação holdout\n",
    "X_train, X_test, y_train, y_test = train_test_split(X, y, test_size=0.3, random_state=42)\n",
    "\n",
    "# Criando uma cópia para normalização apenas na Regressão Logística\n",
    "#OBS: Os modelos Random Forest e Extra Trees não precisam de dados normalizados pois são baseados em árcores de decisão\n",
    "X_train_scaled, X_test_scaled = X_train.copy(), X_test.copy()\n",
    "\n",
    "# Aplicando normalização APENAS para a Regressão Logística\n",
    "scaler = StandardScaler()\n",
    "X_train_scaled = scaler.fit_transform(X_train)\n",
    "X_test_scaled = scaler.transform(X_test)"
   ]
  },
  {
   "cell_type": "code",
   "execution_count": 10,
   "id": "b80f3576",
   "metadata": {},
   "outputs": [],
   "source": [
    "# Criando o pipeline para Logistic Regression\n",
    "logistic_pipeline = Pipeline([\n",
    "    (\"scaler\", StandardScaler()),  # Normaliza os dados\n",
    "    (\"model\", LogisticRegression(random_state=42, max_iter=10000))\n",
    "])"
   ]
  },
  {
   "cell_type": "code",
   "execution_count": 11,
   "id": "be07c4d7",
   "metadata": {},
   "outputs": [],
   "source": [
    "#Teste com modelos de classificação\n",
    "\n",
    "# Definindo os modelos de classificação\n",
    "models = {\n",
    "    \"Random Forest\": RandomForestClassifier(random_state=42),\n",
    "    \"Extra Trees\": ExtraTreesClassifier(random_state=42),\n",
    "    \"Logistic Regression\": LogisticRegression(random_state=42, max_iter=10000)\n",
    "}"
   ]
  },
  {
   "cell_type": "code",
   "execution_count": 12,
   "id": "2650596c",
   "metadata": {},
   "outputs": [
    {
     "name": "stdout",
     "output_type": "stream",
     "text": [
      "Avaliação Holdout para Random Forest:\n",
      "Acurácia: 0.9801980198019802\n",
      "Precisão: 0.9795918367346939\n",
      "Recall: 0.9795918367346939\n",
      "F1-score: 0.9795918367346939\n",
      "--------------------------------------------------\n"
     ]
    },
    {
     "data": {
      "image/png": "[encoded data removed]",
      "text/plain": [
       "<Figure size 600x400 with 2 Axes>"
      ]
     },
     "metadata": {},
     "output_type": "display_data"
    },
    {
     "name": "stdout",
     "output_type": "stream",
     "text": [
      "Avaliação Holdout para Extra Trees:\n",
      "Acurácia: 0.9801980198019802\n",
      "Precisão: 0.9607843137254902\n",
      "Recall: 1.0\n",
      "F1-score: 0.98\n",
      "--------------------------------------------------\n"
     ]
    },
    {
     "data": {
      "image/png": "[encoded data removed]",
      "text/plain": [
       "<Figure size 600x400 with 2 Axes>"
      ]
     },
     "metadata": {},
     "output_type": "display_data"
    },
    {
     "name": "stdout",
     "output_type": "stream",
     "text": [
      "Avaliação Holdout para Logistic Regression:\n",
      "Acurácia: 0.9900990099009901\n",
      "Precisão: 0.98\n",
      "Recall: 1.0\n",
      "F1-score: 0.98989898989899\n",
      "--------------------------------------------------\n"
     ]
    },
    {
     "data": {
      "image/png": "[encoded data removed]",
      "text/plain": [
       "<Figure size 600x400 with 2 Axes>"
      ]
     },
     "metadata": {},
     "output_type": "display_data"
    }
   ],
   "source": [
    "# Avaliação holdout para cada modelo\n",
    "for model_name, model in models.items():\n",
    "    print(f\"Avaliação Holdout para {model_name}:\")\n",
    "    \n",
    "    # Treinando o modelo e fazendo previsão\n",
    "    if model_name == \"Logistic Regression\":\n",
    "        model.fit(X_train_scaled, y_train)  # Usa os dados normalizados\n",
    "        y_pred = model.predict(X_test_scaled)\n",
    "    else:\n",
    "        model.fit(X_train, y_train)  # Usa os dados originais\n",
    "        y_pred = model.predict(X_test)\n",
    "    \n",
    "    # Calculando métricas de classificação\n",
    "    accuracy = accuracy_score(y_test, y_pred)\n",
    "    precision = precision_score(y_test, y_pred)\n",
    "    recall = recall_score(y_test, y_pred)\n",
    "    f1 = f1_score(y_test, y_pred)\n",
    "    cm = confusion_matrix(y_test, y_pred)\n",
    "    \n",
    "    # Exibindo os resultados\n",
    "    print(\"Acurácia:\", accuracy)\n",
    "    print(\"Precisão:\", precision)\n",
    "    print(\"Recall:\", recall)\n",
    "    print(\"F1-score:\", f1)\n",
    "    print(\"-\" * 50)\n",
    "    \n",
    "    #Matriz de confusão\n",
    "    plt.figure(figsize=(6,4))\n",
    "    sns.heatmap(cm, annot=True, fmt=\"d\", cmap=\"Blues\", linewidths=1, linecolor=\"black\")\n",
    "\n",
    "    # Labels e título\n",
    "    plt.xlabel(\"Previsto\")\n",
    "    plt.ylabel(\"Real\")\n",
    "    plt.title(\"Matriz de Confusão\")\n",
    "    plt.show()\n"
   ]
  },
  {
   "cell_type": "code",
   "execution_count": 13,
   "id": "dff0df68",
   "metadata": {},
   "outputs": [
    {
     "name": "stdout",
     "output_type": "stream",
     "text": [
      "Validação Cruzada para Random Forest:\n",
      "Acurácia para cada fold: [0.98507463 0.95522388 1.         0.97014925 0.98484848]\n",
      "Média da Acurácia: 0.9790592492085028\n",
      "Desvio padrão da Acurácia: 0.015203472482388354\n",
      "F1-score para cada fold: [0.98507463 0.95238095 1.         0.97222222 0.98630137]\n",
      "Média do F1-score: 0.9791958342663719\n",
      "Desvio padrão do F1-score: 0.016034533394422814\n",
      "--------------------------------------------------\n",
      "Validação Cruzada para Extra Trees:\n",
      "Acurácia para cada fold: [0.97014925 0.95522388 0.97014925 0.97014925 0.96969697]\n",
      "Média da Acurácia: 0.9670737222976029\n",
      "Desvio padrão da Acurácia: 0.005927509697116571\n",
      "F1-score para cada fold: [0.97058824 0.95238095 0.97058824 0.97222222 0.97297297]\n",
      "Média do F1-score: 0.9677505236328766\n",
      "Desvio padrão do F1-score: 0.007740788083864496\n",
      "--------------------------------------------------\n",
      "Validação Cruzada para Logistic Regression:\n",
      "Acurácia para cada fold: [0.98507463 0.94029851 1.         0.97014925 0.96969697]\n",
      "Média da Acurácia: 0.9730438715513342\n",
      "Desvio padrão da Acurácia: 0.01981520309267142\n",
      "F1-score para cada fold: [0.98507463 0.9375     1.         0.97222222 0.97297297]\n",
      "Média do F1-score: 0.9735539644121733\n",
      "Desvio padrão do F1-score: 0.02065970909682525\n",
      "--------------------------------------------------\n"
     ]
    }
   ],
   "source": [
    "# Validação Cruzada para cada modelo\n",
    "cv = KFold(n_splits=5, shuffle=True, random_state=42)\n",
    "\n",
    "for model_name, model in models.items():\n",
    "    print(f\"Validação Cruzada para {model_name}:\")\n",
    "    \n",
    "    # Calculando a acurácia para cada fold\n",
    "    accuracy_scores = cross_val_score(model, X, y, cv=cv, scoring='accuracy')\n",
    "    print(\"Acurácia para cada fold:\", accuracy_scores)\n",
    "    print(\"Média da Acurácia:\", accuracy_scores.mean())\n",
    "    print(\"Desvio padrão da Acurácia:\", accuracy_scores.std())\n",
    "    \n",
    "    # Calculando o F1-score para cada fold\n",
    "    f1_scores = cross_val_score(model, X, y, cv=cv, scoring='f1')\n",
    "    print(\"F1-score para cada fold:\", f1_scores)\n",
    "    print(\"Média do F1-score:\", f1_scores.mean())\n",
    "    print(\"Desvio padrão do F1-score:\", f1_scores.std())\n",
    "    print(\"-\" * 50)"
   ]
  }
 ],
 "metadata": {
  "kernelspec": {
   "display_name": "Python 3 (ipykernel)",
   "language": "python",
   "name": "python3"
  },
  "language_info": {
   "codemirror_mode": {
    "name": "ipython",
    "version": 3
   },
   "file_extension": ".py",
   "mimetype": "text/x-python",
   "name": "python",
   "nbconvert_exporter": "python",
   "pygments_lexer": "ipython3",
   "version": "3.11.4"
  }
 },
 "nbformat": 4,
 "nbformat_minor": 5
}
